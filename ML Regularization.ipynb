{
 "cells": [
  {
   "cell_type": "markdown",
   "id": "6d92fa0a",
   "metadata": {},
   "source": [
    "# Perform Ridge, Lasso, ElasticNet Regression to predict house price from the dataset."
   ]
  },
  {
   "cell_type": "code",
   "execution_count": 1,
   "id": "ed374378",
   "metadata": {},
   "outputs": [],
   "source": [
    "import mglearn"
   ]
  },
  {
   "cell_type": "code",
   "execution_count": 2,
   "id": "0f2c1a06",
   "metadata": {},
   "outputs": [],
   "source": [
    "import numpy as np\n",
    "import pandas as pd\n",
    "import warnings\n",
    "warnings.filterwarnings('ignore')\n",
    "from sklearn.metrics import mean_absolute_error,mean_squared_error"
   ]
  },
  {
   "cell_type": "code",
   "execution_count": null,
   "id": "365069de",
   "metadata": {},
   "outputs": [],
   "source": []
  },
  {
   "cell_type": "code",
   "execution_count": 3,
   "id": "86cb9daf",
   "metadata": {},
   "outputs": [],
   "source": [
    "from sklearn.model_selection import train_test_split\n",
    "from sklearn.linear_model import LinearRegression"
   ]
  },
  {
   "cell_type": "code",
   "execution_count": 6,
   "id": "9e2f04c0",
   "metadata": {},
   "outputs": [],
   "source": [
    "X,y=mglearn.datasets.load_extended_boston()\n",
    "X_train,X_test,y_train,y_test=train_test_split(X,y,random_state=0)"
   ]
  },
  {
   "cell_type": "code",
   "execution_count": 8,
   "id": "0a3b91ab",
   "metadata": {},
   "outputs": [
    {
     "data": {
      "text/plain": [
       "(array([[0.00000000e+00, 1.80000000e-01, 6.78152493e-02, ...,\n",
       "         1.00000000e+00, 8.96799117e-02, 8.04248656e-03],\n",
       "        [2.35922539e-04, 0.00000000e+00, 2.42302053e-01, ...,\n",
       "         1.00000000e+00, 2.04470199e-01, 4.18080621e-02],\n",
       "        [2.35697744e-04, 0.00000000e+00, 2.42302053e-01, ...,\n",
       "         9.79579831e-01, 6.28144504e-02, 4.02790570e-03],\n",
       "        ...,\n",
       "        [6.11892474e-04, 0.00000000e+00, 4.20454545e-01, ...,\n",
       "         1.00000000e+00, 1.07891832e-01, 1.16406475e-02],\n",
       "        [1.16072990e-03, 0.00000000e+00, 4.20454545e-01, ...,\n",
       "         9.82676920e-01, 1.29930407e-01, 1.71795127e-02],\n",
       "        [4.61841693e-04, 0.00000000e+00, 4.20454545e-01, ...,\n",
       "         1.00000000e+00, 1.69701987e-01, 2.87987643e-02]]),\n",
       " array([24. , 21.6, 34.7, 33.4, 36.2, 28.7, 22.9, 27.1, 16.5, 18.9, 15. ,\n",
       "        18.9, 21.7, 20.4, 18.2, 19.9, 23.1, 17.5, 20.2, 18.2, 13.6, 19.6,\n",
       "        15.2, 14.5, 15.6, 13.9, 16.6, 14.8, 18.4, 21. , 12.7, 14.5, 13.2,\n",
       "        13.1, 13.5, 18.9, 20. , 21. , 24.7, 30.8, 34.9, 26.6, 25.3, 24.7,\n",
       "        21.2, 19.3, 20. , 16.6, 14.4, 19.4, 19.7, 20.5, 25. , 23.4, 18.9,\n",
       "        35.4, 24.7, 31.6, 23.3, 19.6, 18.7, 16. , 22.2, 25. , 33. , 23.5,\n",
       "        19.4, 22. , 17.4, 20.9, 24.2, 21.7, 22.8, 23.4, 24.1, 21.4, 20. ,\n",
       "        20.8, 21.2, 20.3, 28. , 23.9, 24.8, 22.9, 23.9, 26.6, 22.5, 22.2,\n",
       "        23.6, 28.7, 22.6, 22. , 22.9, 25. , 20.6, 28.4, 21.4, 38.7, 43.8,\n",
       "        33.2, 27.5, 26.5, 18.6, 19.3, 20.1, 19.5, 19.5, 20.4, 19.8, 19.4,\n",
       "        21.7, 22.8, 18.8, 18.7, 18.5, 18.3, 21.2, 19.2, 20.4, 19.3, 22. ,\n",
       "        20.3, 20.5, 17.3, 18.8, 21.4, 15.7, 16.2, 18. , 14.3, 19.2, 19.6,\n",
       "        23. , 18.4, 15.6, 18.1, 17.4, 17.1, 13.3, 17.8, 14. , 14.4, 13.4,\n",
       "        15.6, 11.8, 13.8, 15.6, 14.6, 17.8, 15.4, 21.5, 19.6, 15.3, 19.4,\n",
       "        17. , 15.6, 13.1, 41.3, 24.3, 23.3, 27. , 50. , 50. , 50. , 22.7,\n",
       "        25. , 50. , 23.8, 23.8, 22.3, 17.4, 19.1, 23.1, 23.6, 22.6, 29.4,\n",
       "        23.2, 24.6, 29.9, 37.2, 39.8, 36.2, 37.9, 32.5, 26.4, 29.6, 50. ,\n",
       "        32. , 29.8, 34.9, 37. , 30.5, 36.4, 31.1, 29.1, 50. , 33.3, 30.3,\n",
       "        34.6, 34.9, 32.9, 24.1, 42.3, 48.5, 50. , 22.6, 24.4, 22.5, 24.4,\n",
       "        20. , 21.7, 19.3, 22.4, 28.1, 23.7, 25. , 23.3, 28.7, 21.5, 23. ,\n",
       "        26.7, 21.7, 27.5, 30.1, 44.8, 50. , 37.6, 31.6, 46.7, 31.5, 24.3,\n",
       "        31.7, 41.7, 48.3, 29. , 24. , 25.1, 31.5, 23.7, 23.3, 22. , 20.1,\n",
       "        22.2, 23.7, 17.6, 18.5, 24.3, 20.5, 24.5, 26.2, 24.4, 24.8, 29.6,\n",
       "        42.8, 21.9, 20.9, 44. , 50. , 36. , 30.1, 33.8, 43.1, 48.8, 31. ,\n",
       "        36.5, 22.8, 30.7, 50. , 43.5, 20.7, 21.1, 25.2, 24.4, 35.2, 32.4,\n",
       "        32. , 33.2, 33.1, 29.1, 35.1, 45.4, 35.4, 46. , 50. , 32.2, 22. ,\n",
       "        20.1, 23.2, 22.3, 24.8, 28.5, 37.3, 27.9, 23.9, 21.7, 28.6, 27.1,\n",
       "        20.3, 22.5, 29. , 24.8, 22. , 26.4, 33.1, 36.1, 28.4, 33.4, 28.2,\n",
       "        22.8, 20.3, 16.1, 22.1, 19.4, 21.6, 23.8, 16.2, 17.8, 19.8, 23.1,\n",
       "        21. , 23.8, 23.1, 20.4, 18.5, 25. , 24.6, 23. , 22.2, 19.3, 22.6,\n",
       "        19.8, 17.1, 19.4, 22.2, 20.7, 21.1, 19.5, 18.5, 20.6, 19. , 18.7,\n",
       "        32.7, 16.5, 23.9, 31.2, 17.5, 17.2, 23.1, 24.5, 26.6, 22.9, 24.1,\n",
       "        18.6, 30.1, 18.2, 20.6, 17.8, 21.7, 22.7, 22.6, 25. , 19.9, 20.8,\n",
       "        16.8, 21.9, 27.5, 21.9, 23.1, 50. , 50. , 50. , 50. , 50. , 13.8,\n",
       "        13.8, 15. , 13.9, 13.3, 13.1, 10.2, 10.4, 10.9, 11.3, 12.3,  8.8,\n",
       "         7.2, 10.5,  7.4, 10.2, 11.5, 15.1, 23.2,  9.7, 13.8, 12.7, 13.1,\n",
       "        12.5,  8.5,  5. ,  6.3,  5.6,  7.2, 12.1,  8.3,  8.5,  5. , 11.9,\n",
       "        27.9, 17.2, 27.5, 15. , 17.2, 17.9, 16.3,  7. ,  7.2,  7.5, 10.4,\n",
       "         8.8,  8.4, 16.7, 14.2, 20.8, 13.4, 11.7,  8.3, 10.2, 10.9, 11. ,\n",
       "         9.5, 14.5, 14.1, 16.1, 14.3, 11.7, 13.4,  9.6,  8.7,  8.4, 12.8,\n",
       "        10.5, 17.1, 18.4, 15.4, 10.8, 11.8, 14.9, 12.6, 14.1, 13. , 13.4,\n",
       "        15.2, 16.1, 17.8, 14.9, 14.1, 12.7, 13.5, 14.9, 20. , 16.4, 17.7,\n",
       "        19.5, 20.2, 21.4, 19.9, 19. , 19.1, 19.1, 20.1, 19.9, 19.6, 23.2,\n",
       "        29.8, 13.8, 13.3, 16.7, 12. , 14.6, 21.4, 23. , 23.7, 25. , 21.8,\n",
       "        20.6, 21.2, 19.1, 20.6, 15.2,  7. ,  8.1, 13.6, 20.1, 21.8, 24.5,\n",
       "        23.1, 19.7, 18.3, 21.2, 17.5, 16.8, 22.4, 20.6, 23.9, 22. , 11.9]))"
      ]
     },
     "execution_count": 8,
     "metadata": {},
     "output_type": "execute_result"
    }
   ],
   "source": [
    "X,y"
   ]
  },
  {
   "cell_type": "code",
   "execution_count": 5,
   "id": "5b1aa626",
   "metadata": {},
   "outputs": [],
   "source": [
    "LR=LinearRegression().fit(X_train,y_train)"
   ]
  },
  {
   "cell_type": "code",
   "execution_count": 6,
   "id": "d32a0b52",
   "metadata": {},
   "outputs": [],
   "source": [
    "predtr=LR.predict(X_train)"
   ]
  },
  {
   "cell_type": "code",
   "execution_count": 7,
   "id": "9a8f4862",
   "metadata": {},
   "outputs": [],
   "source": [
    "predts=LR.predict(X_test)"
   ]
  },
  {
   "cell_type": "code",
   "execution_count": 9,
   "id": "c4384321",
   "metadata": {},
   "outputs": [
    {
     "name": "stdout",
     "output_type": "stream",
     "text": [
      "TRAIN DATA RESULTS\n",
      "Mean Absolute Error on Train data :  1.5674141791450267\n",
      "Mean Squared Error on Train data :  4.090362612543773\n",
      "Training Set R squared score :  0.9520519609032729\n",
      "\n",
      "TEST DATA RESULTS\n",
      "Mean Absolute Error on Test data :  3.2258952120186124\n",
      "Mean Squared Error on Test data :  32.06913512158236\n",
      "Test Set R squared score :  0.6074721959665845\n"
     ]
    }
   ],
   "source": [
    "print('TRAIN DATA RESULTS')\n",
    "print(\"Mean Absolute Error on Train data : \", mean_absolute_error(predtr,y_train))\n",
    "print(\"Mean Squared Error on Train data : \", mean_squared_error(predtr,y_train))\n",
    "print('Training Set R squared score : ', LR.score(X_train, y_train))\n",
    "\n",
    "print('\\nTEST DATA RESULTS')\n",
    "print(\"Mean Absolute Error on Test data : \", mean_absolute_error(predts,y_test))\n",
    "print(\"Mean Squared Error on Test data : \", mean_squared_error(predts,y_test))\n",
    "print('Test Set R squared score : ', LR.score(X_test, y_test))"
   ]
  },
  {
   "cell_type": "code",
   "execution_count": 18,
   "id": "51f10732",
   "metadata": {},
   "outputs": [
    {
     "data": {
      "text/plain": [
       "[<matplotlib.lines.Line2D at 0x22966639a20>]"
      ]
     },
     "execution_count": 18,
     "metadata": {},
     "output_type": "execute_result"
    },
    {
     "data": {
      "image/png": "[encoded data removed]",
      "text/plain": [
       "<Figure size 640x480 with 1 Axes>"
      ]
     },
     "metadata": {},
     "output_type": "display_data"
    }
   ],
   "source": [
    "import matplotlib.pyplot as plt\n",
    "plt.plot(LR.coef_,'x')\n",
    "#plt.xlabel('coefficient index')\n",
    "#plt.ylabel('coefficient magnitude')"
   ]
  },
  {
   "cell_type": "markdown",
   "id": "431f22f4",
   "metadata": {},
   "source": [
    "## Ridge regression"
   ]
  },
  {
   "cell_type": "code",
   "execution_count": 19,
   "id": "7c83297a",
   "metadata": {},
   "outputs": [],
   "source": [
    "from sklearn.linear_model import Ridge\n",
    "RR= Ridge().fit(X_train,y_train)\n",
    "predtrrr=RR.predict(X_train)\n",
    "predterr=RR.predict(X_test)"
   ]
  },
  {
   "cell_type": "code",
   "execution_count": 20,
   "id": "acdc38ba",
   "metadata": {},
   "outputs": [
    {
     "name": "stdout",
     "output_type": "stream",
     "text": [
      "TRAIN DATA RESULTS\n",
      "Mean Absolute Error on Train data :  2.1656396671236804\n",
      "Mean Squared Error on Train data :  9.742485553723808\n",
      "Training Set R squared score :  0.8857966585170941\n",
      "\n",
      "TEST DATA RESULTS\n",
      "Mean Absolute Error on Test data :  2.962692600141008\n",
      "Mean Squared Error on Test data :  20.198582539263406\n",
      "Test Set R squared score :  0.7527683481744755\n"
     ]
    }
   ],
   "source": [
    "print('TRAIN DATA RESULTS')\n",
    "print(\"Mean Absolute Error on Train data : \", mean_absolute_error(y_train, predtrrr))\n",
    "print(\"Mean Squared Error on Train data : \", mean_squared_error(y_train, predtrrr))\n",
    "print('Training Set R squared score : ', RR.score(X_train, y_train))\n",
    "\n",
    "print('\\nTEST DATA RESULTS')\n",
    "print(\"Mean Absolute Error on Test data : \", mean_absolute_error(y_test, predterr))\n",
    "print(\"Mean Squared Error on Test data : \", mean_squared_error(y_test, predterr))\n",
    "print('Test Set R squared score : ', RR.score(X_test, y_test))"
   ]
  },
  {
   "cell_type": "markdown",
   "id": "1efc44af",
   "metadata": {},
   "source": [
    "## Lasso Regression"
   ]
  },
  {
   "cell_type": "code",
   "execution_count": 26,
   "id": "ec5eb424",
   "metadata": {},
   "outputs": [],
   "source": [
    "from sklearn.linear_model import Lasso\n",
    "L= Lasso(alpha=0.1).fit(X_train,y_train)\n",
    "Ltrrr=L.predict(X_train)\n",
    "Lterr=L.predict(X_test)"
   ]
  },
  {
   "cell_type": "code",
   "execution_count": 27,
   "id": "f431c383",
   "metadata": {},
   "outputs": [
    {
     "name": "stdout",
     "output_type": "stream",
     "text": [
      "TRAIN DATA RESULTS\n",
      "Mean Absolute Error on Train data :  3.0201884503686167\n",
      "Mean Squared Error on Train data :  19.53596847909079\n",
      "Training Set R squared score :  0.7709955157630054\n",
      "\n",
      "TEST DATA RESULTS\n",
      "Mean Absolute Error on Test data :  3.4796980680785334\n",
      "Mean Squared Error on Test data :  30.21221440514699\n",
      "Test Set R squared score :  0.6302009976110041\n"
     ]
    }
   ],
   "source": [
    "print('TRAIN DATA RESULTS')\n",
    "print(\"Mean Absolute Error on Train data : \", mean_absolute_error(y_train, Ltrrr))\n",
    "print(\"Mean Squared Error on Train data : \", mean_squared_error(y_train, Ltrrr))\n",
    "print('Training Set R squared score : ', L.score(X_train, y_train))\n",
    "\n",
    "print('\\nTEST DATA RESULTS')\n",
    "print(\"Mean Absolute Error on Test data : \", mean_absolute_error(y_test, Lterr))\n",
    "print(\"Mean Squared Error on Test data : \", mean_squared_error(y_test, Lterr))\n",
    "print('Test Set R squared score : ', L.score(X_test, y_test))"
   ]
  },
  {
   "cell_type": "code",
   "execution_count": 28,
   "id": "67e77d17",
   "metadata": {},
   "outputs": [
    {
     "data": {
      "text/plain": [
       "array([ -0.        ,   0.        ,  -0.        ,   0.        ,\n",
       "        -0.        ,   0.        ,  -0.        ,  -0.        ,\n",
       "        -0.        ,  -0.        ,  -6.9479104 ,   0.        ,\n",
       "       -15.73532625,  -0.        ,   0.        ,  -0.        ,\n",
       "         0.        ,  -0.        ,  -0.        ,  -0.        ,\n",
       "        -0.        ,  -0.        ,  -0.        ,  -0.        ,\n",
       "        -0.        ,  -0.        ,   0.        ,  -0.        ,\n",
       "         0.        ,   0.        ,   0.        ,   0.        ,\n",
       "        -0.        ,   0.        ,  -0.        ,  -0.        ,\n",
       "         0.        ,  -0.        ,  -0.        ,   0.        ,\n",
       "        -0.        ,  -0.        ,  -0.        ,  -0.        ,\n",
       "        -0.        ,  -0.        ,  -0.        ,  -0.        ,\n",
       "        -0.        ,   0.        ,   0.        ,   0.        ,\n",
       "         0.        ,   0.        ,   0.        ,   0.        ,\n",
       "         0.        ,   1.57250056,   0.        ,  -0.0679511 ,\n",
       "        -0.        ,  -0.        ,  -0.        ,  -0.        ,\n",
       "        -0.        ,  -0.        ,  -0.        ,  -0.        ,\n",
       "        19.43340742,  -0.        ,  -0.        ,  -0.        ,\n",
       "        -5.1337726 ,  -0.        ,   5.34522328,  -0.        ,\n",
       "        -0.        ,  -0.        ,  -0.        ,  -0.        ,\n",
       "        -0.        ,   0.        ,  -0.457832  ,  -0.        ,\n",
       "        -0.        ,  -0.        ,  -0.        ,  -0.        ,\n",
       "        -0.        ,  -0.        ,  -0.        ,  -0.        ,\n",
       "         0.        ,  -0.        ,  -0.        ,  -0.        ,\n",
       "        -0.        ,  -0.        ,  -0.        ,  -0.        ,\n",
       "        -0.        ,   0.        ,  -0.        ,   0.        ])"
      ]
     },
     "execution_count": 28,
     "metadata": {},
     "output_type": "execute_result"
    }
   ],
   "source": [
    "L.coef_"
   ]
  },
  {
   "cell_type": "markdown",
   "id": "3e155e68",
   "metadata": {},
   "source": [
    "## Elastic Net"
   ]
  },
  {
   "cell_type": "code",
   "execution_count": 29,
   "id": "626aff62",
   "metadata": {},
   "outputs": [],
   "source": [
    "from sklearn.linear_model import ElasticNet"
   ]
  },
  {
   "cell_type": "code",
   "execution_count": 32,
   "id": "f471bc2c",
   "metadata": {},
   "outputs": [],
   "source": [
    "EN=ElasticNet().fit(X_train, y_train)\n",
    "predentr=EN.predict(X_train)\n",
    "predente=EN.predict(X_test)"
   ]
  },
  {
   "cell_type": "code",
   "execution_count": 33,
   "id": "8bf8e74d",
   "metadata": {},
   "outputs": [],
   "source": [
    "from sklearn.model_selection import GridSearchCV"
   ]
  },
  {
   "cell_type": "code",
   "execution_count": 37,
   "id": "fb06236e",
   "metadata": {},
   "outputs": [],
   "source": [
    "params={'alpha': [0.01,0.2,0.5,1,1.5,2], 'max_iter':[1000,10,30]}\n",
    "gs=GridSearchCV(EN,params).fit(X_train,y_train)"
   ]
  },
  {
   "cell_type": "code",
   "execution_count": 38,
   "id": "96ff14fc",
   "metadata": {},
   "outputs": [
    {
     "data": {
      "text/plain": [
       "{'alpha': 0.01, 'max_iter': 1000}"
      ]
     },
     "execution_count": 38,
     "metadata": {},
     "output_type": "execute_result"
    }
   ],
   "source": [
    "gs.best_params_"
   ]
  },
  {
   "cell_type": "code",
   "execution_count": 39,
   "id": "24385eac",
   "metadata": {},
   "outputs": [],
   "source": [
    "predtrgs=gs.predict(X_train)\n",
    "predtegs=gs.predict(X_test)"
   ]
  },
  {
   "cell_type": "code",
   "execution_count": 40,
   "id": "31aee769",
   "metadata": {},
   "outputs": [
    {
     "name": "stdout",
     "output_type": "stream",
     "text": [
      "TRAIN DATA RESULTS\n",
      "Mean Absolute Error on Train data :  2.4253498365524946\n",
      "Mean Squared Error on Train data :  12.33842273711578\n",
      "Training Set R squared score :  0.8553665697077995\n",
      "\n",
      "TEST DATA RESULTS\n",
      "Mean Absolute Error on Test data :  3.120603233011405\n",
      "Mean Squared Error on Test data :  22.801753811315482\n",
      "Test Set R squared score :  0.7209054027265391\n"
     ]
    }
   ],
   "source": [
    "print('TRAIN DATA RESULTS')\n",
    "print(\"Mean Absolute Error on Train data : \", mean_absolute_error(y_train, predtrgs))\n",
    "print(\"Mean Squared Error on Train data : \", mean_squared_error(y_train, predtrgs))\n",
    "print('Training Set R squared score : ', gs.score(X_train, y_train))\n",
    "\n",
    "print('\\nTEST DATA RESULTS')\n",
    "print(\"Mean Absolute Error on Test data : \", mean_absolute_error(y_test, predtegs))\n",
    "print(\"Mean Squared Error on Test data : \", mean_squared_error(y_test, predtegs))\n",
    "print('Test Set R squared score : ', gs.score(X_test, y_test))"
   ]
  },
  {
   "cell_type": "code",
   "execution_count": null,
   "id": "355da102",
   "metadata": {},
   "outputs": [],
   "source": []
  }
 ],
 "metadata": {
  "kernelspec": {
   "display_name": "Python 3 (ipykernel)",
   "language": "python",
   "name": "python3"
  },
  "language_info": {
   "codemirror_mode": {
    "name": "ipython",
    "version": 3
   },
   "file_extension": ".py",
   "mimetype": "text/x-python",
   "name": "python",
   "nbconvert_exporter": "python",
   "pygments_lexer": "ipython3",
   "version": "3.10.9"
  }
 },
 "nbformat": 4,
 "nbformat_minor": 5
}
